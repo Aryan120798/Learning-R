{
 "cells": [
  {
   "cell_type": "markdown",
   "metadata": {},
   "source": [
    "# Conditional structures"
   ]
  },
  {
   "cell_type": "markdown",
   "metadata": {},
   "source": [
    "Basic ``if-else`` conditions in R"
   ]
  },
  {
   "cell_type": "code",
   "execution_count": 1,
   "metadata": {},
   "outputs": [
    {
     "name": "stdout",
     "output_type": "stream",
     "text": [
      "[1] \"Number is odd\"\n"
     ]
    }
   ],
   "source": [
    "number <- 15\n",
    "if (number %% 2 == 0){\n",
    "    print('Number is even')\n",
    "}else{\n",
    "    print('Number is odd')\n",
    "}"
   ]
  },
  {
   "cell_type": "code",
   "execution_count": 2,
   "metadata": {},
   "outputs": [
    {
     "name": "stdout",
     "output_type": "stream",
     "text": [
      "[1] \"Number is zero\"\n"
     ]
    }
   ],
   "source": [
    "number <- 0\n",
    "if (number == 0){\n",
    "    print('Number is zero')\n",
    "}else if (number %% 2 == 0){\n",
    "    print('Number is even')\n",
    "}else{\n",
    "    print('Number is odd')\n",
    "}"
   ]
  },
  {
   "cell_type": "markdown",
   "metadata": {},
   "source": [
    "Using ``switch`` statements"
   ]
  },
  {
   "cell_type": "code",
   "execution_count": 3,
   "metadata": {},
   "outputs": [
    {
     "data": {
      "text/html": [
       "'two'"
      ],
      "text/latex": [
       "'two'"
      ],
      "text/markdown": [
       "'two'"
      ],
      "text/plain": [
       "[1] \"two\""
      ]
     },
     "metadata": {},
     "output_type": "display_data"
    }
   ],
   "source": [
    "# switch statements in R are quite different from switch statments in other languages\n",
    "# here first parameter is a integer(constant or variable) parameters passed after first param are\n",
    "# considered as a vector of categorical data.\n",
    "# based on switch value i, ith element from the vector is returned\n",
    "idx <- 2\n",
    "switch(idx, 'one', 'two', 'three')"
   ]
  },
  {
   "cell_type": "markdown",
   "metadata": {},
   "source": [
    "# Loops"
   ]
  },
  {
   "cell_type": "markdown",
   "metadata": {},
   "source": [
    "The ``for`` loop"
   ]
  },
  {
   "cell_type": "code",
   "execution_count": 4,
   "metadata": {},
   "outputs": [
    {
     "name": "stdout",
     "output_type": "stream",
     "text": [
      "[1] \"David\"\n",
      "[1] \"Shawn\"\n",
      "[1] \"Peter\"\n"
     ]
    }
   ],
   "source": [
    "# instead of using a vector as iterator we can use range such as 10:15\n",
    "# the in keyword used here can not be used else where outside the loop condition\n",
    "# instead %in% must be used\n",
    "names <- c('David', 'Shawn', 'Peter')\n",
    "for(i in names){\n",
    "    print(i)\n",
    "}"
   ]
  },
  {
   "cell_type": "code",
   "execution_count": 5,
   "metadata": {},
   "outputs": [
    {
     "name": "stdout",
     "output_type": "stream",
     "text": [
      "[1] \"D\"\n",
      "[1] \"a\"\n",
      "[1] \"v\"\n",
      "[1] \"i\"\n",
      "[1] \"d\"\n"
     ]
    }
   ],
   "source": [
    "# split a string into it's component characters\n",
    "names <- strsplit('David', \"\")[[1]]\n",
    "for(i in names){\n",
    "    print(i)\n",
    "}"
   ]
  },
  {
   "cell_type": "markdown",
   "metadata": {},
   "source": [
    "The ``while`` loop"
   ]
  },
  {
   "cell_type": "code",
   "execution_count": 6,
   "metadata": {},
   "outputs": [
    {
     "name": "stdout",
     "output_type": "stream",
     "text": [
      "[1] \"D\"\n",
      "[1] \"a\"\n",
      "[1] \"v\"\n",
      "[1] \"i\"\n",
      "[1] \"d\"\n"
     ]
    }
   ],
   "source": [
    "len <- length(names)\n",
    "idx <- 1\n",
    "while(idx <= len){\n",
    "    print(names[idx])\n",
    "    idx <- idx + 1\n",
    "}"
   ]
  },
  {
   "cell_type": "markdown",
   "metadata": {},
   "source": [
    "An infinite loop, ``repeat``"
   ]
  },
  {
   "cell_type": "code",
   "execution_count": 7,
   "metadata": {},
   "outputs": [
    {
     "name": "stdout",
     "output_type": "stream",
     "text": [
      "[1] \"This will stop in 3\"\n",
      "[1] \"This will stop in 2\"\n",
      "[1] \"This will stop in 1\"\n",
      "[1] \"Breaking out...\"\n"
     ]
    }
   ],
   "source": [
    "counter <- 3\n",
    "repeat{\n",
    "    print(paste('This will stop in', counter))\n",
    "    counter <- counter -1\n",
    "    if(counter == 0){\n",
    "        print(\"Breaking out...\")\n",
    "        break\n",
    "    }\n",
    "}"
   ]
  }
 ],
 "metadata": {
  "kernelspec": {
   "display_name": "R",
   "language": "R",
   "name": "ir"
  },
  "language_info": {
   "codemirror_mode": "r",
   "file_extension": ".r",
   "mimetype": "text/x-r-source",
   "name": "R",
   "pygments_lexer": "r",
   "version": "3.6.3"
  },
  "toc": {
   "base_numbering": 1,
   "nav_menu": {},
   "number_sections": true,
   "sideBar": true,
   "skip_h1_title": false,
   "title_cell": "Table of Contents",
   "title_sidebar": "Contents",
   "toc_cell": false,
   "toc_position": {},
   "toc_section_display": true,
   "toc_window_display": false
  }
 },
 "nbformat": 4,
 "nbformat_minor": 2
}
