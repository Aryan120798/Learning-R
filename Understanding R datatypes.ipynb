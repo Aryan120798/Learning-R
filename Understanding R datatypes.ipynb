{
 "cells": [
  {
   "cell_type": "markdown",
   "metadata": {},
   "source": [
    "There are 2 ways to check datatypes in R:\n",
    "1. using typeof() to get R internal datatypes\n",
    "2. using class() to get datatypes according to OOP R"
   ]
  },
  {
   "cell_type": "code",
   "execution_count": 1,
   "metadata": {},
   "outputs": [
    {
     "name": "stdout",
     "output_type": "stream",
     "text": [
      "[1] 15\n",
      "[1] \"double numeric\"\n",
      "[1] 15.01\n",
      "[1] \"double numeric\"\n"
     ]
    }
   ],
   "source": [
    "# a generic integer assignment as we do in other languages\n",
    "a <- 15\n",
    "print(a)\n",
    "print(paste(typeof(a), class(a)))\n",
    "\n",
    "# a generic float assignment\n",
    "a <- 15.01\n",
    "print(a)\n",
    "print(paste(typeof(a), class(a)))"
   ]
  },
  {
   "cell_type": "code",
   "execution_count": 2,
   "metadata": {},
   "outputs": [
    {
     "name": "stdout",
     "output_type": "stream",
     "text": [
      "[1] 15\n",
      "[1] \"integer integer\"\n"
     ]
    }
   ],
   "source": [
    "# integer assignment in R\n",
    "a <- 15L\n",
    "print(a)\n",
    "print(paste(typeof(a), class(a)))"
   ]
  },
  {
   "cell_type": "code",
   "execution_count": 3,
   "metadata": {},
   "outputs": [
    {
     "name": "stdout",
     "output_type": "stream",
     "text": [
      "[1] \"This is string data\"\n",
      "[1] \"character character\"\n"
     ]
    }
   ],
   "source": [
    "# assigning a string\n",
    "a <- 'This is string data'\n",
    "print(a)\n",
    "print(paste(typeof(a), class(a)))"
   ]
  },
  {
   "cell_type": "markdown",
   "metadata": {},
   "source": [
    "Now let's see what difference does it make when we make a vector using c() and seq()"
   ]
  },
  {
   "cell_type": "code",
   "execution_count": 4,
   "metadata": {},
   "outputs": [
    {
     "name": "stdout",
     "output_type": "stream",
     "text": [
      " [1]  1  2  3  4  5  6  7  8  9 10 11 12\n",
      "[1] \"integer integer\"\n"
     ]
    }
   ],
   "source": [
    "# creating vectors in R\n",
    "a <- c(1:12)\n",
    "print(a)\n",
    "print(paste(typeof(a), class(a)))"
   ]
  },
  {
   "cell_type": "code",
   "execution_count": 5,
   "metadata": {},
   "outputs": [
    {
     "name": "stdout",
     "output_type": "stream",
     "text": [
      "[1]  1  3  5  7  9 11\n",
      "[1] \"double numeric\"\n"
     ]
    }
   ],
   "source": [
    "# using sequence to generate vector using defined steps can be integer or float\n",
    "a <- seq(1,12,2)\n",
    "print(a)\n",
    "print(paste(typeof(a), class(a)))"
   ]
  },
  {
   "cell_type": "code",
   "execution_count": 6,
   "metadata": {},
   "outputs": [
    {
     "name": "stdout",
     "output_type": "stream",
     "text": [
      "     [,1] [,2] [,3]\n",
      "[1,]    1    2    3\n",
      "[2,]    4    5    6\n",
      "[3,]    7    8    9\n",
      "[4,]   10   11   12\n",
      "[1] \"integer matrix\"\n"
     ]
    }
   ],
   "source": [
    "# matrix creation in R\n",
    "a <- matrix(c(1:12), nrow=4, byrow=TRUE)\n",
    "print(a)\n",
    "print(paste(typeof(a), class(a)))"
   ]
  },
  {
   "cell_type": "markdown",
   "metadata": {},
   "source": [
    "Wow this is interesting"
   ]
  },
  {
   "cell_type": "code",
   "execution_count": 7,
   "metadata": {},
   "outputs": [
    {
     "name": "stdout",
     "output_type": "stream",
     "text": [
      "     [,1] [,2] [,3]\n",
      "[1,]    1    4    7\n",
      "[2,]    2    5    8\n",
      "[3,]    3    6    9\n",
      "[1] \"integer matrix\"\n"
     ]
    }
   ],
   "source": [
    "a <- array(c(1:12), dim=c(3,3))\n",
    "print(a)\n",
    "print(paste(typeof(a), class(a)))"
   ]
  },
  {
   "cell_type": "markdown",
   "metadata": {},
   "source": [
    "As we saw above typeof() of seq() returns double so let's check it out "
   ]
  },
  {
   "cell_type": "code",
   "execution_count": 8,
   "metadata": {},
   "outputs": [
    {
     "name": "stdout",
     "output_type": "stream",
     "text": [
      "     [,1] [,2] [,3]\n",
      "[1,]    1    4    7\n",
      "[2,]    2    5    8\n",
      "[3,]    3    6    9\n",
      "[1] \"double matrix\"\n"
     ]
    }
   ],
   "source": [
    "a <- array(seq(1,12,1), dim=c(3,3))\n",
    "print(a)\n",
    "print(paste(typeof(a), class(a)))"
   ]
  },
  {
   "cell_type": "markdown",
   "metadata": {},
   "source": [
    "Let's play with list()"
   ]
  },
  {
   "cell_type": "code",
   "execution_count": 9,
   "metadata": {},
   "outputs": [
    {
     "name": "stdout",
     "output_type": "stream",
     "text": [
      "[[1]]\n",
      "[1] 13\n",
      "\n",
      "[[2]]\n",
      " [1]  1  2  3  4  5  6  7  8  9 10 11 12\n",
      "\n",
      "[[3]]\n",
      "     [,1] [,2] [,3]\n",
      "[1,]    2    5    8\n",
      "[2,]    3    6    9\n",
      "[3,]    4    7   10\n",
      "\n",
      "[1] \"list list\"\n"
     ]
    }
   ],
   "source": [
    "a <- list(13, c(1:12), array(c(2:12), dim=c(3,3)))\n",
    "print(a)\n",
    "print(paste(typeof(a), class(a)))"
   ]
  },
  {
   "cell_type": "markdown",
   "metadata": {},
   "source": [
    "What about boolean values"
   ]
  },
  {
   "cell_type": "code",
   "execution_count": 10,
   "metadata": {},
   "outputs": [
    {
     "name": "stdout",
     "output_type": "stream",
     "text": [
      "[1] TRUE\n",
      "[1] \"logical logical\"\n"
     ]
    }
   ],
   "source": [
    "a <- TRUE\n",
    "print(a)\n",
    "print(paste(typeof(a), class(a)))"
   ]
  },
  {
   "cell_type": "markdown",
   "metadata": {},
   "source": [
    "and factors?"
   ]
  },
  {
   "cell_type": "code",
   "execution_count": 11,
   "metadata": {},
   "outputs": [
    {
     "name": "stdout",
     "output_type": "stream",
     "text": [
      "[1] Mumbai    Hyderabad\n",
      "Levels: Hyderabad Mumbai\n",
      "[1] \"integer factor\"\n",
      "[1] Mumbai    Hyderabad\n",
      "Levels: Mumbai Hyderabad\n",
      "[1] \"integer factor\"\n",
      "[1] Mumbai    Hyderabad\n",
      "Levels: Mumbai < Hyderabad\n",
      "[1] \"integer ordered\" \"integer factor\" \n"
     ]
    }
   ],
   "source": [
    "cities <- c('Mumbai', 'Hyderabad')\n",
    "\n",
    "# without specifying levels\n",
    "a <- factor(cities)\n",
    "print(a)\n",
    "print(paste(typeof(a), class(a)))\n",
    "\n",
    "# specifying labels\n",
    "a <- factor(cities, levels=cities)\n",
    "print(a)\n",
    "print(paste(typeof(a), class(a)))\n",
    "\n",
    "#specify labels and pass order as TRUE\n",
    "a <- factor(cities, order=TRUE, levels=cities)\n",
    "print(a)\n",
    "print(paste(typeof(a), class(a)))"
   ]
  },
  {
   "cell_type": "markdown",
   "metadata": {},
   "source": [
    "Let's checkout dataframes"
   ]
  },
  {
   "cell_type": "code",
   "execution_count": 12,
   "metadata": {},
   "outputs": [
    {
     "name": "stdout",
     "output_type": "stream",
     "text": [
      "  employee_id employee_name    sal  join_date\n",
      "1           1         James 642.30 2013-02-04\n",
      "2           2         Harry 535.20 2017-06-21\n",
      "3           3        Shinji 681.00 2012-11-14\n",
      "4           4           Jim 739.00 2018-05-19\n",
      "5           5        Oliver 925.26 2016-03-25\n"
     ]
    }
   ],
   "source": [
    "employee_data <-data.frame(employee_id = c (1:5),\n",
    "                           employee_name = c(\"James\",\"Harry\",\"Shinji\",\"Jim\",\"Oliver\"),\n",
    "                           sal = c(642.3,535.2,681.0,739.0,925.26),\n",
    "                           join_date = as.Date(c(\"2013-02-04\", \"2017-06-21\", \"2012-11-14\", \"2018-05-19\",\"2016-03-25\")),\n",
    "                           stringsAsFactors = FALSE)\n",
    "print(employee_data)"
   ]
  },
  {
   "cell_type": "code",
   "execution_count": 13,
   "metadata": {},
   "outputs": [
    {
     "name": "stdout",
     "output_type": "stream",
     "text": [
      "[1] \"list data.frame\"\n"
     ]
    }
   ],
   "source": [
    "print(paste(typeof(employee_data), class(employee_data)))"
   ]
  },
  {
   "cell_type": "code",
   "execution_count": 14,
   "metadata": {},
   "outputs": [
    {
     "name": "stdout",
     "output_type": "stream",
     "text": [
      "[1] \"double Date\"\n"
     ]
    }
   ],
   "source": [
    "print(paste(typeof(employee_data$join_date), class(employee_data$join_date)))"
   ]
  }
 ],
 "metadata": {
  "kernelspec": {
   "display_name": "R",
   "language": "R",
   "name": "ir"
  },
  "language_info": {
   "codemirror_mode": "r",
   "file_extension": ".r",
   "mimetype": "text/x-r-source",
   "name": "R",
   "pygments_lexer": "r",
   "version": "3.6.3"
  },
  "toc": {
   "base_numbering": 1,
   "nav_menu": {},
   "number_sections": true,
   "sideBar": true,
   "skip_h1_title": false,
   "title_cell": "Table of Contents",
   "title_sidebar": "Contents",
   "toc_cell": false,
   "toc_position": {},
   "toc_section_display": true,
   "toc_window_display": false
  }
 },
 "nbformat": 4,
 "nbformat_minor": 2
}
